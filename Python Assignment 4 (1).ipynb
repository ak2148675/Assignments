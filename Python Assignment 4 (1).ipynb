{
 "cells": [
  {
   "cell_type": "markdown",
   "metadata": {},
   "source": [
    "# Python Assignment 4"
   ]
  },
  {
   "cell_type": "markdown",
   "metadata": {},
   "source": [
    "# Q1.1"
   ]
  },
  {
   "cell_type": "code",
   "execution_count": 1,
   "metadata": {},
   "outputs": [
    {
     "name": "stdout",
     "output_type": "stream",
     "text": [
      "Please Enter the First side of a Triangle: 10\n",
      "Please Enter the Second side of a Triangle: 20\n",
      "Please Enter the Third side of a Triangle: 20\n",
      "\n",
      " The Perimeter of Traiangle = 50.00\n",
      " The Semi Perimeter of Traiangle = 25.00\n",
      " The Area of a Triangle is 96.82\n"
     ]
    }
   ],
   "source": [
    "\n",
    "a = float(input('Please Enter the First side of a Triangle: '))\n",
    "b = float(input('Please Enter the Second side of a Triangle: '))\n",
    "c = float(input('Please Enter the Third side of a Triangle: '))\n",
    "\n",
    "# calculate the Perimeter\n",
    "Perimeter = a + b + c\n",
    "\n",
    "# calculate the semi-perimeter\n",
    "s = (a + b + c) / 2\n",
    "\n",
    "# calculate the area\n",
    "Area = (s*(s-a)*(s-b)*(s-c)) ** 0.5\n",
    "\n",
    "print(\"\\n The Perimeter of Traiangle = %.2f\" %Perimeter);\n",
    "print(\" The Semi Perimeter of Traiangle = %.2f\" %s);\n",
    "print(\" The Area of a Triangle is %0.2f\" %Area)"
   ]
  },
  {
   "cell_type": "markdown",
   "metadata": {},
   "source": [
    "# Q1.2"
   ]
  },
  {
   "cell_type": "code",
   "execution_count": 8,
   "metadata": {},
   "outputs": [
    {
     "name": "stdout",
     "output_type": "stream",
     "text": [
      "PYTHON\n"
     ]
    }
   ],
   "source": [
    "def find_longest_word(words_list):\n",
    "    word_len = []\n",
    "    for n in words_list:\n",
    "        word_len.append((len(n), n))\n",
    "    word_len.sort()\n",
    "    return word_len[-1][1]\n",
    "\n",
    "print(find_longest_word([\"PHP\", \"JAVA\", \"PYTHON\"]))"
   ]
  },
  {
   "cell_type": "code",
   "execution_count": null,
   "metadata": {},
   "outputs": [],
   "source": []
  },
  {
   "cell_type": "markdown",
   "metadata": {},
   "source": [
    "# Q2.1"
   ]
  },
  {
   "cell_type": "code",
   "execution_count": 3,
   "metadata": {},
   "outputs": [
    {
     "name": "stdout",
     "output_type": "stream",
     "text": [
      "List of words:['wordOne', 'wordTwo', 'wordThree', 'wordFour', 'wordFive']\n",
      "List of wordlength:[7, 7, 9, 8, 8]\n"
     ]
    }
   ],
   "source": [
    "listOfWords = ['wordOne','wordTwo','wordThree','wordFour','wordFive']\n",
    " \n",
    "listOfInts = []\n",
    " \n",
    "for i in range(len(listOfWords)):\n",
    "    listOfInts.append(len(listOfWords[i]))\n",
    " \n",
    "print (\"List of words:\"+str(listOfWords))    \n",
    "print (\"List of wordlength:\"+str(listOfInts))"
   ]
  },
  {
   "cell_type": "markdown",
   "metadata": {},
   "source": [
    "# Q2.2"
   ]
  },
  {
   "cell_type": "code",
   "execution_count": 7,
   "metadata": {},
   "outputs": [],
   "source": [
    "def is_vowel(char):\n",
    "    return is_in_list(char.lower(), 'aeiou')\n",
    "\n",
    "def is_in_list(char, lst):\n",
    "    if not lst:\n",
    "        return False\n",
    "    if char == lst[0]:\n",
    "        return True\n",
    "    return is_in_list(char, lst[1:])"
   ]
  },
  {
   "cell_type": "code",
   "execution_count": null,
   "metadata": {},
   "outputs": [],
   "source": []
  }
 ],
 "metadata": {
  "kernelspec": {
   "display_name": "Python 3",
   "language": "python",
   "name": "python3"
  },
  "language_info": {
   "codemirror_mode": {
    "name": "ipython",
    "version": 3
   },
   "file_extension": ".py",
   "mimetype": "text/x-python",
   "name": "python",
   "nbconvert_exporter": "python",
   "pygments_lexer": "ipython3",
   "version": "3.8.3"
  }
 },
 "nbformat": 4,
 "nbformat_minor": 4
}
